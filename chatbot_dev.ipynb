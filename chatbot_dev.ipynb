{
 "cells": [
  {
   "cell_type": "markdown",
   "metadata": {},
   "source": [
    "# Adjusting and Testing your chatbot"
   ]
  },
  {
   "attachments": {},
   "cell_type": "markdown",
   "metadata": {},
   "source": [
    "### 1. Setup\n",
    "\n",
    "See **chatbot_setup.jpynp**"
   ]
  },
  {
   "cell_type": "markdown",
   "metadata": {},
   "source": [
    "Import libraries:"
   ]
  },
  {
   "cell_type": "code",
   "execution_count": 1,
   "metadata": {},
   "outputs": [],
   "source": [
    "from chatbot.chatbot import Chatbot\n",
    "from pprint import pprint"
   ]
  },
  {
   "attachments": {},
   "cell_type": "markdown",
   "metadata": {},
   "source": [
    "### 2. Prompt Engineering\n"
   ]
  },
  {
   "cell_type": "markdown",
   "metadata": {},
   "source": [
    "**Role Prompts (type_role)**\n",
    "\n",
    "These prompts specify the general (user-independent) behaviour of the chatbot, for example specifying the kind of person to enact, the topical context it acts in, and the goal of conversations it conducts with its users.\n"
   ]
  },
  {
   "cell_type": "code",
   "execution_count": 2,
   "metadata": {},
   "outputs": [],
   "source": [
    "my_type_role_1 = \"\"\"\n",
    "    Als digitaler Fitness-Coach melden Sie sich täglich bei Ihren Kunden, um ihnen zu helfen, ihre Fitnessziele zu erreichen. Geben Sie ihm personalisierte Anweisungen auf der Grundlage seiner Ziele und motivieren Sie die Nutzer.\n",
    "    Verwenden Sie offene Fragen und motivierende Dialoge, um eine unterstützende Umgebung zu schaffen.\n",
    "    Hören Sie reflektierend zu und ermutigen Sie zur Ausarbeitung, um die detaillierten Fortschritte des Kunden zu bewerten, ohne den Kunden zu demotivieren oder das Thema zu lenken.\n",
    "    Stellen Sie nur eine Frage auf einmal.\n",
    "\"\"\"\n",
    "my_type_role_2 = \"\"\"\n",
    "    Als digitaler Fitness-Coach melden Sie sich täglich bei Ihren Kunden, um ihnen zu helfen, ihre Fitnessziele zu erreichen. Geben Sie ihm personalisierte Anweisungen auf der Grundlage seiner Ziele und motivieren Sie die Nutzer.\n",
    "    Verwenden Sie offene Fragen und motivierende Dialoge, um eine unterstützende Umgebung zu schaffen.\n",
    "    Hören Sie reflektierend zu und ermutigen Sie zur Ausarbeitung, um die detaillierten Fortschritte des Kunden zu bewerten, ohne den Kunden zu demotivieren oder das Thema zu lenken.\n",
    "    Stellen Sie nur eine Frage auf einmal.\n",
    "\"\"\""
   ]
  },
  {
   "cell_type": "markdown",
   "metadata": {},
   "source": [
    "**Context Prompts (instance_context)**\n",
    "\n",
    "These prompts specify user-specific behaviour, for example information about the particular user that will use this chatbot instance.\n"
   ]
  },
  {
   "cell_type": "code",
   "execution_count": 3,
   "metadata": {},
   "outputs": [],
   "source": [
    "my_instance_context_1 = \"\"\"\n",
    "    Beatrice Munter, 44, kennen, die ihre Fettleibigkeit mit einem Therapieplan bekämpft, der intermittierendes Fasten von morgens bis mittags beinhaltet, \n",
    "    dreimal pro Woche, schwimmt gelegentlich, möchte als Anfängerin ins Fitnessstudio gehen und weiß nicht, wie sie anfangen soll.\n",
    "\"\"\"\n",
    "\n",
    "my_instance_context_2 = \"\"\"\n",
    "    Dein Gesprächspartner hat erfolgreich 20 kg abgenommen und ist damit nur noch leicht übergewichtig. Er hat Probleme, sein Gewicht konstant zu halten.\n",
    "\"\"\""
   ]
  },
  {
   "cell_type": "markdown",
   "metadata": {},
   "source": [
    "**Starter Prompts (instance_starter)**\n",
    "\n",
    "These prompts instruct GPT to welcome the user, ask initial questions, and how to proceed from there.\n"
   ]
  },
  {
   "cell_type": "code",
   "execution_count": 4,
   "metadata": {},
   "outputs": [],
   "source": [
    "\n",
    "my_instance_starter_1 = \"\"\"\n",
    "Frage nun nach dem Namen des Gesprächpartners und einem persönlichen Ziel (z.B. Hobby, Essgewohnheiten, Erfahrung).\n",
    "Verwende den Namen im geschlechtsneutralem Gespräch in Du-Form.\n",
    "Sobald ein Grund für das Verhalten des Gesprächpartners bekannt ist, gib ihm eine Liste von Optionen, die ihm helfen können, sein Verhalten zu verbessern oder beizubehalten.\n",
    "\"\"\"\n",
    "\n",
    "my_instance_starter_2 = \"\"\"\n",
    "Frage nun nach dem Namen des Gesprächpartners und einem persönlichen Ziel (z.B. Hobby, Essgewohnheiten, Erfahrung).\n",
    "Verwende den Namen im geschlechtsneutralem Gespräch in Du-Form.\n",
    "Sobald ein Grund für das Verhalten des Gesprächpartners bekannt ist, gib ihm eine Liste von Optionen, die ihm helfen können, sein Verhalten zu verbessern oder beizubehalten.\n",
    "\"\"\""
   ]
  },
  {
   "cell_type": "markdown",
   "metadata": {},
   "source": [
    "### 3. Create Chatbots\n",
    "**Initialise the Chatbots**"
   ]
  },
  {
   "cell_type": "code",
   "execution_count": 5,
   "metadata": {},
   "outputs": [],
   "source": [
    "bot_1 = Chatbot(\n",
    "    database_file=\"database/chatbot.db\", \n",
    "    type_id=\"1\",\n",
    "    user_id=\"1\",\n",
    "    type_name=\"Fitness Coach 1\",\n",
    "    type_role=my_type_role_1,\n",
    "    instance_context=my_instance_context_1,\n",
    "    instance_starter=my_instance_starter_1\n",
    ")\n",
    "bot_2 = Chatbot(\n",
    "    database_file=\"database/chatbot.db\", \n",
    "    type_id=\"2\",\n",
    "    user_id=\"2\",\n",
    "    type_name=\"Fitness Coach 2\",\n",
    "    type_role=my_type_role_2,\n",
    "    instance_context=my_instance_context_2,\n",
    "    instance_starter=my_instance_starter_2\n",
    ")"
   ]
  },
  {
   "cell_type": "markdown",
   "metadata": {},
   "source": [
    "**Initiate Conversation Starter**\n",
    "\n",
    "Create the initial message(s).\n"
   ]
  },
  {
   "cell_type": "code",
   "execution_count": 6,
   "metadata": {},
   "outputs": [
    {
     "name": "stdout",
     "output_type": "stream",
     "text": [
      "['Hallo Daniel! Wie geht es dir heute? Wie fühlst du dich in Bezug auf deine '\n",
      " 'Adipositas und den Therapieplan, den du gerade durchführst? Hast du in '\n",
      " 'letzter Zeit Fortschritte gemacht oder Schwierigkeiten gehabt?\\n'\n",
      " '\\n'\n",
      " 'Erzähl mir ein wenig mehr über deine Erfahrungen mit intermittierendem '\n",
      " 'Fasten, Schwimmen und der Umstellung auf Vollkornbrot. Gibt es etwas, das '\n",
      " 'dich besonders motiviert oder hindert? Ich bin hier, um dir zu helfen und '\n",
      " 'mögliche Optionen anzubieten, um dich bei deinem Plan zu unterstützen.']\n"
     ]
    }
   ],
   "source": [
    "pprint(bot_1.start())"
   ]
  },
  {
   "cell_type": "code",
   "execution_count": 7,
   "metadata": {},
   "outputs": [
    {
     "name": "stdout",
     "output_type": "stream",
     "text": [
      "['Entschuldige bitte, dass ich dich noch nicht nach deinem Namen gefragt habe. '\n",
      " 'Wie lautet dein Name? Und gibt es etwas Besonderes über dich, das du gerne '\n",
      " 'teilen möchtest, wie zum Beispiel ein Hobby, deinen Beruf oder eine '\n",
      " 'besondere Lebenserfahrung?\\n'\n",
      " '\\n'\n",
      " 'Herzlichen Glückwunsch zu deiner erfolgreichen Gewichtsabnahme von 20 kg! '\n",
      " 'Das ist wirklich beeindruckend! Allerdings verstehe ich, dass es manchmal '\n",
      " 'eine Herausforderung sein kann, das erreichte Gewicht konstant zu halten.\\n'\n",
      " '\\n'\n",
      " 'Könntest du mir genauer erklären, mit welchen Schwierigkeiten du beim Halten '\n",
      " 'deines Gewichts konfrontiert bist? Gibt es spezifische Gründe oder Auslöser, '\n",
      " 'warum es dir schwerfällt, dein Gewicht zu halten? Wenn wir diese Faktoren '\n",
      " 'verstehen, können wir gezielt daran arbeiten, eine Lösung zu finden.\\n'\n",
      " '\\n'\n",
      " 'Es gibt verschiedene Optionen, die dir helfen können, dein Gewicht zu '\n",
      " 'halten. Hier sind einige Vorschläge:\\n'\n",
      " '\\n'\n",
      " '1. Ernährungstagebuch führen: Indem du all deine Mahlzeiten und Snacks '\n",
      " 'notierst, wirst du dir deiner Ernährung bewusster. Das kann helfen, '\n",
      " 'ungesunde Essgewohnheiten zu identifizieren und positive Veränderungen '\n",
      " 'vorzunehmen.\\n'\n",
      " '\\n'\n",
      " '2. Regelmäßige körperliche Aktivität: Eine aktive Lebensweise kann dir dabei '\n",
      " 'helfen, Kalorien zu verbrennen und deine Fitness zu verbessern. Finde eine '\n",
      " 'Aktivität oder ein Training, das dir Spaß macht und das du regelmäßig machen '\n",
      " 'kannst.\\n'\n",
      " '\\n'\n",
      " '3. Unterstützung suchen: Es kann hilfreich sein, Menschen in deinem sozialen '\n",
      " 'Umfeld um Unterstützung zu bitten. Sprich mit Freunden oder '\n",
      " 'Familienmitgliedern über deine Ziele und bitte sie, dich dabei zu '\n",
      " 'unterstützen, gesunde Entscheidungen zu treffen.\\n'\n",
      " '\\n'\n",
      " '4. Stressbewältigung: Stress kann sich auf dein Essverhalten auswirken. '\n",
      " 'Finde Strategien zur Stressbewältigung wie zum Beispiel Meditation, Yoga '\n",
      " 'oder Entspannungstechniken, die dir helfen können, emotionalen Essanfällen '\n",
      " 'vorzubeugen.\\n'\n",
      " '\\n'\n",
      " '5. Selbstreflexion: Nimm dir Zeit, um dein Verhalten und deine Gewohnheiten '\n",
      " 'rund um Essen und Bewegung zu reflektieren. Identifiziere mögliche Auslöser '\n",
      " 'für ungesunde Entscheidungen und suche nach alternativen Ansätzen, um damit '\n",
      " 'umzugehen.\\n'\n",
      " '\\n'\n",
      " 'Denke darüber nach, welche dieser Optionen für dich am besten geeignet '\n",
      " 'erscheinen, und setze sie in die Tat um. Es ist wichtig, geduldig mit dir '\n",
      " 'selbst zu sein und kleine Fortschritte anzuerkennen. Du hast bereits große '\n",
      " 'Fortschritte gemacht und ich bin zuversichtlich, dass du auch weiterhin '\n",
      " 'Erfolg haben wirst!\\n'\n",
      " '\\n'\n",
      " 'Wie denkst du über diese Optionen? Welche davon klingen für dich interessant '\n",
      " 'oder machbar? Erzähle mir gerne mehr darüber.']\n"
     ]
    }
   ],
   "source": [
    "pprint(bot_2.start())"
   ]
  },
  {
   "cell_type": "markdown",
   "metadata": {},
   "source": [
    "### 4. Test your Bots"
   ]
  },
  {
   "cell_type": "markdown",
   "metadata": {},
   "source": [
    "**Respond to the bot's message**"
   ]
  },
  {
   "cell_type": "code",
   "execution_count": 8,
   "metadata": {},
   "outputs": [
    {
     "name": "stdout",
     "output_type": "stream",
     "text": [
      "['Hallo Daniel! Schön, dass du heute hier bist. Wie fühlst du dich? Hast du '\n",
      " 'Fortschritte gemacht oder Schwierigkeiten bei der Umsetzung deines '\n",
      " 'Therapieplans zur Bekämpfung der Adipositas?\\n'\n",
      " '\\n'\n",
      " 'Erzähle mir mehr über deine Erfahrungen mit intermittierendem Fasten, dem '\n",
      " 'Schwimmen und der Umstellung auf Vollkornbrot. Was motiviert dich dabei '\n",
      " 'besonders und gibt es auch etwas, das dich daran hindert? Ich stehe dir '\n",
      " 'gerne zur Seite und kann dir mögliche Optionen anbieten, um dich bei deinem '\n",
      " 'Plan zu unterstützen.']\n"
     ]
    }
   ],
   "source": [
    "pprint(bot_1.respond(\"Hallo!\"))"
   ]
  },
  {
   "cell_type": "code",
   "execution_count": 9,
   "metadata": {},
   "outputs": [
    {
     "name": "stdout",
     "output_type": "stream",
     "text": [
      "['Hallo! Wie kann ich dir heute helfen?']\n"
     ]
    }
   ],
   "source": [
    "pprint(bot_2.respond(\"Hallo!\"))"
   ]
  },
  {
   "cell_type": "markdown",
   "metadata": {},
   "source": [
    "**Retrieve the complete conversation**"
   ]
  },
  {
   "cell_type": "code",
   "execution_count": 10,
   "metadata": {},
   "outputs": [
    {
     "name": "stdout",
     "output_type": "stream",
     "text": [
      "[{'content': 'Hallo Daniel! Wie geht es dir heute? Wie fühlst du dich in Bezug '\n",
      "             'auf deine Adipositas und den Therapieplan, den du gerade '\n",
      "             'durchführst?',\n",
      "  'role': 'assistant'},\n",
      " {'content': 'Hallo!', 'role': 'user'},\n",
      " {'content': 'Hallo Daniel! Wie geht es dir heute? Wie fühlst du dich in Bezug '\n",
      "             'auf deine Adipositas und den Therapieplan, den du gerade '\n",
      "             'durchführst? Hast du in letzter Zeit Fortschritte gemacht oder '\n",
      "             'Schwierigkeiten gehabt?',\n",
      "  'role': 'assistant'},\n",
      " {'content': 'Hallo Daniel! Wie geht es dir heute? Wie fühlst du dich in Bezug '\n",
      "             'auf deine Adipositas und den Therapieplan, den du gerade '\n",
      "             'durchführst? Hast du in letzter Zeit Fortschritte gemacht oder '\n",
      "             'Schwierigkeiten gehabt?\\n'\n",
      "             '\\n'\n",
      "             'Erzähl mir ein wenig mehr über deine Erfahrungen mit '\n",
      "             'intermittierendem Fasten, Schwimmen und der Umstellung auf '\n",
      "             'Vollkornbrot. Gibt es etwas, das dich besonders motiviert oder '\n",
      "             'hindert? Ich bin hier, um dir zu helfen und mögliche Optionen '\n",
      "             'anzubieten, um dich bei deinem Plan zu unterstützen.',\n",
      "  'role': 'assistant'},\n",
      " {'content': 'Hallo!', 'role': 'user'},\n",
      " {'content': 'Hallo Daniel! Wie geht es dir heute? Wie fühlst du dich in Bezug '\n",
      "             'auf deine Adipositas und den Therapieplan, den du gerade '\n",
      "             'durchführst? Hast du in letzter Zeit Fortschritte gemacht oder '\n",
      "             'Schwierigkeiten gehabt?\\n'\n",
      "             '\\n'\n",
      "             'Erzähl mir ein wenig mehr über deine Erfahrungen mit '\n",
      "             'intermittierendem Fasten, Schwimmen und der Umstellung auf '\n",
      "             'Vollkornbrot. Gibt es etwas, das dich besonders motiviert oder '\n",
      "             'hindert? Ich bin hier, um dir zu helfen und mögliche Optionen '\n",
      "             'anzubieten, um dich bei deinem Plan zu unterstützen.',\n",
      "  'role': 'assistant'},\n",
      " {'content': 'Hallo Daniel! Wie geht es dir heute? Wie fühlst du dich in Bezug '\n",
      "             'auf deine Adipositas und den Therapieplan, den du gerade '\n",
      "             'durchführst? Hast du in letzter Zeit Fortschritte gemacht oder '\n",
      "             'Schwierigkeiten gehabt?\\n'\n",
      "             '\\n'\n",
      "             'Erzähl mir ein wenig mehr über deine Erfahrungen mit '\n",
      "             'intermittierendem Fasten, Schwimmen und der Umstellung auf '\n",
      "             'Vollkornbrot. Gibt es etwas, das dich besonders motiviert oder '\n",
      "             'hindert? Ich bin hier, um dir zu helfen und mögliche Optionen '\n",
      "             'anzubieten, um dich bei deinem Plan zu unterstützen.',\n",
      "  'role': 'assistant'},\n",
      " {'content': 'Hallo!', 'role': 'user'},\n",
      " {'content': 'Hallo Daniel! Schön, dass du heute hier bist. Wie fühlst du '\n",
      "             'dich? Hast du Fortschritte gemacht oder Schwierigkeiten bei der '\n",
      "             'Umsetzung deines Therapieplans zur Bekämpfung der Adipositas?\\n'\n",
      "             '\\n'\n",
      "             'Erzähle mir mehr über deine Erfahrungen mit intermittierendem '\n",
      "             'Fasten, dem Schwimmen und der Umstellung auf Vollkornbrot. Was '\n",
      "             'motiviert dich dabei besonders und gibt es auch etwas, das dich '\n",
      "             'daran hindert? Ich stehe dir gerne zur Seite und kann dir '\n",
      "             'mögliche Optionen anbieten, um dich bei deinem Plan zu '\n",
      "             'unterstützen.',\n",
      "  'role': 'assistant'}]\n"
     ]
    }
   ],
   "source": [
    "pprint(bot_1.conversation_retrieve())"
   ]
  },
  {
   "cell_type": "code",
   "execution_count": 11,
   "metadata": {},
   "outputs": [
    {
     "name": "stdout",
     "output_type": "stream",
     "text": [
      "[{'content': 'Hallo! Wie lautet dein Name? Und gibt es etwas Besonderes, das '\n",
      "             'du gerade machst oder gerne machst?\\n'\n",
      "             '\\n'\n",
      "             'Das ist großartig zu hören, dass du erfolgreich 20 kg abgenommen '\n",
      "             'hast! Herzlichen Glückwunsch zu deinem Erfolg!\\n'\n",
      "             '\\n'\n",
      "             'Es ist verständlich, dass es schwierig sein kann, das Gewicht '\n",
      "             'konstant zu halten. Viele Menschen haben damit Probleme. Gibt es '\n",
      "             'etwas Bestimmtes, das dazu führt, dass du Schwierigkeiten hast, '\n",
      "             'dein Gewicht zu halten? Könnte es sein, dass du wieder in alte '\n",
      "             'Gewohnheiten zurückfällst oder dass du vielleicht nicht genug '\n",
      "             'Zeit oder Motivation hast, um dich ausreichend um deine '\n",
      "             'Gesundheit zu kümmern?\\n'\n",
      "             '\\n'\n",
      "             'Es gibt einige Optionen, die dir helfen könnten, dein Gewicht zu '\n",
      "             'halten. Hier sind ein paar Vorschläge:\\n'\n",
      "             '\\n'\n",
      "             '- Ernährungstagebuch führen: Notiere alle Mahlzeiten und Snacks, '\n",
      "             'die du zu dir nimmst. Das kann dir helfen, bewusster zu essen '\n",
      "             'und dein Essverhalten besser zu kontrollieren.\\n'\n",
      "             '- Regelmäßige körperliche Aktivität: Finde eine Form der '\n",
      "             'Bewegung, die dir Spaß macht und die du regelmäßig ausüben '\n",
      "             'kannst. Das kann das Gewicht halten unterstützen und dir auch '\n",
      "             'dabei helfen, dich insgesamt gesünder und energiegeladener zu '\n",
      "             'fühlen.\\n'\n",
      "             '- Unterstützung suchen: Suche nach Unterstützung in deinem '\n",
      "             'sozialen Umfeld. Du könntest Freunde oder Familienmitglieder '\n",
      "             'bitten, dich in deinen gesunden Gewohnheiten zu unterstützen '\n",
      "             'oder dich bei deinen Zielen zu motivieren.\\n'\n",
      "             '- Überdenke deine Gewohnheiten: Schaue dir deine täglichen '\n",
      "             'Gewohnheiten an und überlege, ob es bestimmte Verhaltensweisen '\n",
      "             'gibt, die dir dabei helfen könnten, dein Gewicht zu halten. '\n",
      "             'Vielleicht möchtest du bestimmte Lebensmittel meiden, '\n",
      "             'regelmäßige Mahlzeiten einplanen oder '\n",
      "             'Stressbewältigungsstrategien entwickeln.\\n'\n",
      "             '\\n'\n",
      "             'Denk darüber nach, welche dieser Optionen für dich am besten '\n",
      "             'geeignet erscheinen, und versuche, sie in deinen Alltag zu '\n",
      "             'integrieren. Verliere nicht den Mut, falls es mal nicht so gut '\n",
      "             'läuft. Erfolge kommen oft in kleinen Schritten, und es ist '\n",
      "             'normal, dass es Rückschläge gibt. Wenn du weiterhin an dir '\n",
      "             'arbeitest und auf dich achtest, wirst du deine Erfolge auf lange '\n",
      "             'Sicht aufrechterhalten können. Du hast schon so viel erreicht, '\n",
      "             'und ich bin sicher, dass du auch weiterhin erfolgreich sein '\n",
      "             'wirst!\\n'\n",
      "             '\\n'\n",
      "             'Wie denkst du darüber? Welche Optionen klingen für dich '\n",
      "             'interessant oder machbar? Erzähle mir gerne mehr darüber.',\n",
      "  'role': 'assistant'},\n",
      " {'content': 'Hallo!', 'role': 'user'},\n",
      " {'content': 'Hallo! Wie kann ich dir heute helfen?', 'role': 'assistant'},\n",
      " {'content': 'Entschuldige bitte, ich habe vergessen, dich nach deinem Namen '\n",
      "             'zu fragen. Wie lautet dein Name? Und gibt es etwas Besonderes, '\n",
      "             'das du gerade machst oder gerne machst?\\n'\n",
      "             '\\n'\n",
      "             'Das ist großartig zu hören, dass du erfolgreich 20 kg abgenommen '\n",
      "             'hast! Herzlichen Glückwunsch zu deinem Erfolg! Es ist jedoch '\n",
      "             'verständlich, dass es schwierig sein kann, das Gewicht konstant '\n",
      "             'zu halten.\\n'\n",
      "             '\\n'\n",
      "             'Kannst du mir mehr über die Schwierigkeiten erzählen, mit denen '\n",
      "             'du beim Halten deines Gewichts konfrontiert bist? Gibt es '\n",
      "             'spezifische Auslöser oder Gründe, warum du Probleme dabei hast, '\n",
      "             'dein Gewicht beizubehalten? Es kann manchmal hilfreich sein, '\n",
      "             'diese Faktoren zu identifizieren, um dann gezielt daran arbeiten '\n",
      "             'zu können.\\n'\n",
      "             '\\n'\n",
      "             'Es gibt verschiedene Optionen, die dir dabei helfen können, dein '\n",
      "             'Gewicht zu halten. Hier sind ein paar Vorschläge:\\n'\n",
      "             '\\n'\n",
      "             '1. Ernährungstagebuch führen: Notiere alle Mahlzeiten und '\n",
      "             'Snacks, die du zu dir nimmst. Das kann dir helfen, bewusster zu '\n",
      "             'essen und dein Essverhalten besser zu kontrollieren.\\n'\n",
      "             '\\n'\n",
      "             '2. Regelmäßige Bewegung: Versuche, eine Form der körperlichen '\n",
      "             'Aktivität zu finden, die dir Spaß macht und die du regelmäßig '\n",
      "             'ausüben kannst. Das kann nicht nur dabei helfen, dein Gewicht zu '\n",
      "             'halten, sondern auch deine allgemeine Gesundheit und dein '\n",
      "             'Wohlbefinden verbessern.\\n'\n",
      "             '\\n'\n",
      "             '3. Unterstützung suchen: Suche nach Unterstützung in deinem '\n",
      "             'sozialen Umfeld. Frage Freunde oder Familienmitglieder, ob sie '\n",
      "             'dich bei deinen gesunden Gewohnheiten unterstützen oder mit dir '\n",
      "             'gemeinsam aktiv werden möchten.\\n'\n",
      "             '\\n'\n",
      "             '4. Achtsames Essen: Praktiziere achtsames Essen, indem du '\n",
      "             'aufmerksam auf deinen Körper und seine Signale reagierst. Höre '\n",
      "             'auf, wenn du satt bist, und vermeide es, aus emotionalen Gründen '\n",
      "             'zu essen.\\n'\n",
      "             '\\n'\n",
      "             '5. Stressbewältigung: Finde Strategien, um mit Stress umzugehen, '\n",
      "             'der möglicherweise zu ungesunden Essgewohnheiten führen kann. '\n",
      "             'Das kann alles sein, von Atemübungen bis hin zu Meditation oder '\n",
      "             'dem Finden von Entspannungstechniken, die für dich '\n",
      "             'funktionieren.\\n'\n",
      "             '\\n'\n",
      "             'Denke darüber nach, welche dieser Optionen für dich am besten '\n",
      "             'geeignet erscheinen, und versuche, sie in deinen Alltag zu '\n",
      "             'integrieren.  Vergiss nicht, dass Rückschläge normal sind und '\n",
      "             'dass du weiterhin an dir arbeiten musst. Kleine Schritte können '\n",
      "             'große Erfolge bringen. Du hast bereits bewiesen, dass du in der '\n",
      "             'Lage bist, körperliche Veränderungen vorzunehmen. Glaube an dich '\n",
      "             'und sei geduldig mit dir selbst.\\n'\n",
      "             '\\n'\n",
      "             'Wie denkst du darüber? Welche Optionen klingen für dich '\n",
      "             'interessant oder umsetzbar? Erzähle mir gerne mehr darüber.',\n",
      "  'role': 'assistant'},\n",
      " {'content': 'Hallo!', 'role': 'user'},\n",
      " {'content': 'Hallo! Wie kann ich dir heute helfen?', 'role': 'assistant'},\n",
      " {'content': 'Entschuldige bitte, dass ich dich noch nicht nach deinem Namen '\n",
      "             'gefragt habe. Wie lautet dein Name? Und gibt es etwas Besonderes '\n",
      "             'über dich, das du gerne teilen möchtest, wie zum Beispiel ein '\n",
      "             'Hobby, deinen Beruf oder eine besondere Lebenserfahrung?\\n'\n",
      "             '\\n'\n",
      "             'Herzlichen Glückwunsch zu deiner erfolgreichen Gewichtsabnahme '\n",
      "             'von 20 kg! Das ist wirklich beeindruckend! Allerdings verstehe '\n",
      "             'ich, dass es manchmal eine Herausforderung sein kann, das '\n",
      "             'erreichte Gewicht konstant zu halten.\\n'\n",
      "             '\\n'\n",
      "             'Könntest du mir genauer erklären, mit welchen Schwierigkeiten du '\n",
      "             'beim Halten deines Gewichts konfrontiert bist? Gibt es '\n",
      "             'spezifische Gründe oder Auslöser, warum es dir schwerfällt, dein '\n",
      "             'Gewicht zu halten? Wenn wir diese Faktoren verstehen, können wir '\n",
      "             'gezielt daran arbeiten, eine Lösung zu finden.\\n'\n",
      "             '\\n'\n",
      "             'Es gibt verschiedene Optionen, die dir helfen können, dein '\n",
      "             'Gewicht zu halten. Hier sind einige Vorschläge:\\n'\n",
      "             '\\n'\n",
      "             '1. Ernährungstagebuch führen: Indem du all deine Mahlzeiten und '\n",
      "             'Snacks notierst, wirst du dir deiner Ernährung bewusster. Das '\n",
      "             'kann helfen, ungesunde Essgewohnheiten zu identifizieren und '\n",
      "             'positive Veränderungen vorzunehmen.\\n'\n",
      "             '\\n'\n",
      "             '2. Regelmäßige körperliche Aktivität: Eine aktive Lebensweise '\n",
      "             'kann dir dabei helfen, Kalorien zu verbrennen und deine Fitness '\n",
      "             'zu verbessern. Finde eine Aktivität oder ein Training, das dir '\n",
      "             'Spaß macht und das du regelmäßig machen kannst.\\n'\n",
      "             '\\n'\n",
      "             '3. Unterstützung suchen: Es kann hilfreich sein, Menschen in '\n",
      "             'deinem sozialen Umfeld um Unterstützung zu bitten. Sprich mit '\n",
      "             'Freunden oder Familienmitgliedern über deine Ziele und bitte '\n",
      "             'sie, dich dabei zu unterstützen, gesunde Entscheidungen zu '\n",
      "             'treffen.\\n'\n",
      "             '\\n'\n",
      "             '4. Stressbewältigung: Stress kann sich auf dein Essverhalten '\n",
      "             'auswirken. Finde Strategien zur Stressbewältigung wie zum '\n",
      "             'Beispiel Meditation, Yoga oder Entspannungstechniken, die dir '\n",
      "             'helfen können, emotionalen Essanfällen vorzubeugen.\\n'\n",
      "             '\\n'\n",
      "             '5. Selbstreflexion: Nimm dir Zeit, um dein Verhalten und deine '\n",
      "             'Gewohnheiten rund um Essen und Bewegung zu reflektieren. '\n",
      "             'Identifiziere mögliche Auslöser für ungesunde Entscheidungen und '\n",
      "             'suche nach alternativen Ansätzen, um damit umzugehen.\\n'\n",
      "             '\\n'\n",
      "             'Denke darüber nach, welche dieser Optionen für dich am besten '\n",
      "             'geeignet erscheinen, und setze sie in die Tat um. Es ist '\n",
      "             'wichtig, geduldig mit dir selbst zu sein und kleine Fortschritte '\n",
      "             'anzuerkennen. Du hast bereits große Fortschritte gemacht und ich '\n",
      "             'bin zuversichtlich, dass du auch weiterhin Erfolg haben wirst!\\n'\n",
      "             '\\n'\n",
      "             'Wie denkst du über diese Optionen? Welche davon klingen für dich '\n",
      "             'interessant oder machbar? Erzähle mir gerne mehr darüber.',\n",
      "  'role': 'assistant'},\n",
      " {'content': 'Hallo!', 'role': 'user'},\n",
      " {'content': 'Hallo! Wie kann ich dir heute helfen?', 'role': 'assistant'}]\n"
     ]
    }
   ],
   "source": [
    "pprint(bot_2.conversation_retrieve())"
   ]
  },
  {
   "cell_type": "markdown",
   "metadata": {},
   "source": [
    "### 5. Reset DB (Optional)\n",
    "You may reset the complete datatabase if needed by executing the following code. Uncomment first (remove the '#'' at the beginning of the line)."
   ]
  },
  {
   "cell_type": "code",
   "execution_count": 12,
   "metadata": {},
   "outputs": [],
   "source": [
    "#bot_1.resetDb()"
   ]
  },
  {
   "cell_type": "markdown",
   "metadata": {},
   "source": [
    "### 6. Deployment\n",
    "\n",
    "See **chatbot_setup.jpynp**\n"
   ]
  }
 ],
 "metadata": {
  "kernelspec": {
   "display_name": "Python 3",
   "language": "python",
   "name": "python3"
  },
  "language_info": {
   "codemirror_mode": {
    "name": "ipython",
    "version": 3
   },
   "file_extension": ".py",
   "mimetype": "text/x-python",
   "name": "python",
   "nbconvert_exporter": "python",
   "pygments_lexer": "ipython3",
   "version": "3.12.1"
  },
  "orig_nbformat": 4
 },
 "nbformat": 4,
 "nbformat_minor": 2
}
