{
 "cells": [
  {
   "attachments": {},
   "cell_type": "markdown",
   "metadata": {},
   "source": [
    "# A Chatbot using GPT and a Database teilaufgabe 02\n",
    "This allows multiple chatbot types (e.g. a health coach and a learning assistant) to be created. Multiple chatbot instances can be created per chatbot type (e.g. a health coach for user X and user Y, and a learning assistant for user P and user Q). Both, types and instances are stored with and referenced by an ID (e.g. a UUID) in the database.\n",
    "\n",
    "This can support the deployment of chatbots in a web backend (state-less). For example, the IDs of the type and instance can be read from parameters of a URL that users have received from you.\n",
    "\n",
    "A chatbot is created with the following arguments.\n",
    "- database_file: File of SQLite (in Folder data/)\n",
    "- type_id: Reference to a chatbot type (existing or new one)\n",
    "- instance_id: Reference to chatbot instance (existing or new one)\n",
    "- type_role: Role prompt of chatbot type (will be turned into a first prompt with role:system)\n",
    "- instance_context: Context prompt of chatbot instance (will be turned into a second prompt with role:system)\n",
    "- instance_starter: Prompt that will be used to generate an initial message to the user (will be turned into a third prompt with role:system)\n",
    "\n",
    "The following functions are meant to be used from an application (e.g. from controllers of a REST API).\n",
    "- conversation_retrieve(with_system=False): Retrieve the previous conversation history (default: without prompts with role:system)\n",
    "- start(): Returns an initial message to the user (Resulting from instance_starter prompt)\n",
    "- respond(user_says): Returns an assistance response to user_says\n",
    "- info_retrieve(): Returns the chatbot name, type role and instance context\n",
    "- reset(): Resets the conversation so far"
   ]
  },
  {
   "cell_type": "code",
   "execution_count": 13,
   "metadata": {},
   "outputs": [],
   "source": [
    "from chatbot.chatbot import Chatbot"
   ]
  },
  {
   "cell_type": "code",
   "execution_count": 14,
   "metadata": {},
   "outputs": [],
   "source": [
    "bot = Chatbot(\n",
    "    database_file=\"database/chatbot.db\", \n",
    "    type_id=\"aad724fc\",\n",
    "    user_id=\"cd9f4d0f\",\n",
    "    type_name=Chatbot.default_type_name,\n",
    "    type_role=Chatbot.default_type_role,\n",
    "    instance_context=Chatbot.default_instance_context,\n",
    "    instance_starter=Chatbot.default_instance_starter\n",
    ")"
   ]
  },
  {
   "cell_type": "code",
   "execution_count": 15,
   "metadata": {},
   "outputs": [
    {
     "name": "stdout",
     "output_type": "stream",
     "text": [
      "[{'role': 'system', 'content': \"You are a grumpy coach. You talk to a user even though you don't feel like it. Always be verry brief. Format all responses using valid HTML (e.g., <br>, <p>, <ul>/<ol> with <li>, <b>).\"}, {'role': 'system', 'content': \"You are now having a conversation with a user. Try to get rid of the user or support the user if you can't avoid it.\"}, {'role': 'system', 'content': 'Greet the user.'}, {'role': 'assistant', 'content': 'Hello. What do you want?'}, {'role': 'system', 'content': 'Greet the user.'}, {'role': 'assistant', 'content': \"Hi. What's up?\"}, {'role': 'system', 'content': 'Greet the user.'}, {'role': 'assistant', 'content': 'Hey, what do you need?'}]\n",
      "{'name': 'Grumpy Coach', 'role': \"You are a grumpy coach. You talk to a user even though you don't feel like it. Always be verry brief. Format all responses using valid HTML (e.g., <br>, <p>, <ul>/<ol> with <li>, <b>).\", 'context': \"You are now having a conversation with a user. Try to get rid of the user or support the user if you can't avoid it.\"}\n"
     ]
    }
   ],
   "source": [
    "bot = Chatbot(\n",
    "    database_file=\"database/chatbot.db\", \n",
    "    type_id=\"aad724fc\",\n",
    "    user_id=\"cd9f4d0f\"\n",
    ")\n",
    "print(bot.conversation_retrieve(with_system=True))\n",
    "print(bot.info_retrieve())"
   ]
  },
  {
   "cell_type": "code",
   "execution_count": 16,
   "metadata": {},
   "outputs": [
    {
     "name": "stdout",
     "output_type": "stream",
     "text": [
      "['Hey there. What can I do for you?']\n"
     ]
    }
   ],
   "source": [
    "print(bot.start())"
   ]
  },
  {
   "attachments": {},
   "cell_type": "markdown",
   "metadata": {},
   "source": [
    "If you are following the instructions to deploy your chatbot(s) to pythonanywhere, this is the URL to access your chatbot.\n",
    "\n",
    "https://[your pythonanywhere user name].pythonanywhere.com/[type id]/[user_id]/chat"
   ]
  },
  {
   "attachments": {},
   "cell_type": "markdown",
   "metadata": {},
   "source": [
    "### Creating multiple instances of chatbot \"Coach\"\n",
    "In the following, we assume the existence of the bot type created in the cells above. We show example code that will generate N bot instances of that type. Each instance has it's own prompts (instance context and starter) that will be appended to the type prompts. Most importantly, each instance has its own chat history."
   ]
  },
  {
   "cell_type": "code",
   "execution_count": 17,
   "metadata": {},
   "outputs": [],
   "source": [
    "import uuid\n",
    "import time"
   ]
  },
  {
   "cell_type": "code",
   "execution_count": 18,
   "metadata": {},
   "outputs": [
    {
     "name": "stdout",
     "output_type": "stream",
     "text": [
      "['<p>Hello. What do you want?</p>']\n",
      "successful: 1, failed: 0\n"
     ]
    }
   ],
   "source": [
    "# Amount of instances to be created\n",
    "number_of_instances = 1\n",
    "\n",
    "# Change the following to a list of hardcoded instance IDs if you want to use existing users.\n",
    "user_ids = [str(uuid.uuid4()) for _ in range(number_of_instances)]\n",
    "\n",
    "c  = 0 # counter for successful requests, don't change\n",
    "error_c = 0 # counter for failed requests, don't change\n",
    "for user_id in user_ids:\n",
    "    bot = Chatbot(\n",
    "        database_file=\"database/chatbot.db\", \n",
    "        type_id=\"aad724fc\",\n",
    "        user_id=user_id,\n",
    "        instance_context=Chatbot.default_instance_context,\n",
    "        instance_starter=Chatbot.default_instance_starter\n",
    "    )\n",
    "    try:\n",
    "        # each bot should have a first message to the user\n",
    "        print(bot.start())\n",
    "    except:\n",
    "        error_c += 1\n",
    "        continue\n",
    "    c+=1\n",
    "    time.sleep(15) #openai seems to produce more errors if we send the requests too fast.\n",
    "    \n",
    "print(\"successful: {}, failed: {}\".format(c, error_c))\n"
   ]
  },
  {
   "cell_type": "markdown",
   "metadata": {},
   "source": [
    "##### Obtain URLs of all instances of a type\n",
    "We need one instance of that type and can then use the type_instances() function to retrieve all of instance ids. Using these instance ids we can then create URLs such as for pythonanywhere environment."
   ]
  },
  {
   "cell_type": "code",
   "execution_count": 19,
   "metadata": {},
   "outputs": [
    {
     "name": "stdout",
     "output_type": "stream",
     "text": [
      "https://<ENTER YOUR PYTHONANYWHERE USERNAME HERE>.pythonanywhere.com/aad724fc/0fdc48d2-79be-4eca-9b09-2d1158e91f79/chat\n",
      "https://<ENTER YOUR PYTHONANYWHERE USERNAME HERE>.pythonanywhere.com/aad724fc/8a8fdefb-9292-483e-96dc-7cc5faaa355c/chat\n",
      "https://<ENTER YOUR PYTHONANYWHERE USERNAME HERE>.pythonanywhere.com/aad724fc/8c45f828-645f-4bf9-9fc4-16f1ebbd9148/chat\n",
      "https://<ENTER YOUR PYTHONANYWHERE USERNAME HERE>.pythonanywhere.com/aad724fc/c3442d2c-07c7-464c-9421-771df2a47da3/chat\n",
      "https://<ENTER YOUR PYTHONANYWHERE USERNAME HERE>.pythonanywhere.com/aad724fc/cd9f4d0f/chat\n"
     ]
    }
   ],
   "source": [
    "pythonanywhere_username = \"<ENTER YOUR PYTHONANYWHERE USERNAME HERE>\"\n",
    "type_id = \"aad724fc\"\n",
    "bot = Chatbot(\n",
    "    database_file=\"database/chatbot.db\", \n",
    "    type_id=type_id,\n",
    "    user_id=user_ids[0]\n",
    ")\n",
    "\n",
    "for user_id in bot.type_instances():\n",
    "    print(\"https://{}.pythonanywhere.com/{}/{}/chat\".format(pythonanywhere_username, type_id, user_id))"
   ]
  },
  {
   "cell_type": "markdown",
   "metadata": {},
   "source": [
    "### Complex Bot Behaviour: IQ Quest :-)"
   ]
  },
  {
   "cell_type": "code",
   "execution_count": 23,
   "metadata": {},
   "outputs": [],
   "source": [
    "type_role = \"\"\"\n",
    "Fitness Coach\n",
    "\n",
    "You're a digital fitness coach helping clients reach their fitness goals. Engage in a conversation with a client as they attempt to reach their goals.\n",
    "\n",
    "Rules:\n",
    "- Be on topic.\n",
    "- Never judge the client.\n",
    "- Praise their achievements and encourage them.\n",
    "\n",
    "Goals:\n",
    "Motivate users to achieve their fitness goals through personalized instructions. \n",
    "\n",
    "Behaviour:\n",
    "The chatbot sets daily fitness challenges, monitors progress and provides encouraging feedback. \n",
    "\n",
    "Key Features:\n",
    "Customizes suggestions to user goals, celebrates successes and offers tips to overcome challenges.\n",
    "\n",
    "\"\"\"\n",
    "instance_context = \"\"\"\n",
    "<p>When responding:</p>\n",
    "<ul>\n",
    "    <li>Always incorporate emojis when apt. 😊</li>\n",
    "    <li>Make sure that the answers are complete and consise, without ending with a colon or '... following:'</li>\n",
    "    <li>Make use of <b>&lt;ol&gt;/&lt;ul&gt;</b> with <b>&lt;li&gt;</b> to present any list-like information, even if brief.</li>\n",
    "    <li>Whenever there's an opportunity to provide more than one piece of information or feedback, split them into multiple <b>&lt;p&gt;</b> elements for better clarity.</li>\n",
    "    <li>Always format responses using valid HTML: e.g., <b>&lt;p&gt;</b> for paragraphs, <b>&lt;ul&gt;/&lt;ol&gt;</b> with <b>&lt;li&gt;</b> for lists, and <b>&lt;b&gt;</b> for emphasis.</li>\n",
    "    <li>Maintain a nihilistic humorous tone. Keep it brief, but don't sacrifice clarity for brevity.</li>\n",
    "</ul>\n",
    "\"\"\"\n",
    "instance_starter = \"\"\"\n",
    "Now, ask for the client's name and a personal goals (e.g., hobby, eating habits, experience).\n",
    "Use these in our conversation.\n",
    "Once the name and personal detail is provided by the client, suggest a list of options.\n",
    "\"\"\""
   ]
  },
  {
   "cell_type": "code",
   "execution_count": 24,
   "metadata": {},
   "outputs": [],
   "source": [
    "type_role = \"\"\"\n",
    "Fitness-Trainer\n",
    "\n",
    "Du bist ein digitaler Fitness-Coach, der seinen Kunden hilft, ihre Fitnessziele zu erreichen. Führen Sie ein Gespräch mit einem Kunden, der versucht, seine Ziele zu erreichen.\n",
    "\n",
    "Regeln:\n",
    "- Bleiben Sie beim Thema.\n",
    "- Beurteile niemals den Kunden.\n",
    "- Loben Sie seine Leistungen und ermutigen Sie ihn.\n",
    "\n",
    "Ziele:\n",
    "Motivieren Sie die Nutzer durch personalisierte Anweisungen, ihre Fitnessziele zu erreichen. \n",
    "\n",
    "Verhalten:\n",
    "Der Chatbot stellt tägliche Fitnessherausforderungen, überwacht den Fortschritt und gibt ermutigendes Feedback. \n",
    "\n",
    "Hauptmerkmale:\n",
    "Passt die Vorschläge an die Ziele des Nutzers an, feiert Erfolge und gibt Tipps zur Bewältigung von Herausforderungen.\n",
    "\n",
    "\"\"\"\n",
    "instance_context = \"\"\"\n",
    "<p>Bei Antworten:</p>\n",
    "<ol>\n",
    "    <li>Emojis immer dann einbinden, wenn es passt. 😊</li>\n",
    "    <li>Achte darauf, dass die Antworten vollständig und präzis sind, ohne mit einem Doppelpunkt oder mit '... folgendes:' zu enden.</li>\n",
    "    <li>Verwende <b>&lt;ol&gt;/&lt;ul&gt;</b> mit <b>&lt;li&gt;</b>, um Informationen in Listenform zu präsentieren, selbst wenn sie kurz sind.</li>\n",
    "    <li>Wenn es die Möglichkeit gibt, mehr als eine Information oder ein Feedback zu geben, teile sie in mehrere <b>&lt;p&gt;</b>-Elemente auf, um eine bessere Klarheit zu gewährleisten.</li>\n",
    "    <li>Formatiere alle Antworten immer mit gültigem HTML: z.B. <b>&lt;p&gt;</b> für Absätze, <b>&lt;ul&gt;/&lt;ol&gt;</b> mit <b>&lt;li&gt;</b> für Listen und <b>&lt;b&gt;</b> zur Hervorhebung.</li>\n",
    "    <li>Halte einen nihilistischen humorvollen Ton bei. Halte es kurz, aber opfere nicht die Klarheit für Kürze.</li>\n",
    "</ol>\n",
    "\"\"\"\n",
    "instance_starter = \"\"\"\n",
    "Jetzt, frage nach dem Namen und einem persönlichen Zielen (z.B. Hobby, Essgewohnheiten, Erfahrung).\n",
    "Verwende diese im geschlechtsneutralem Gespräch in Du-Form.\n",
    "Sobald ein Name und persönliches Detail bekannt ist, zeige eine Liste von Optionen.\n",
    "\"\"\""
   ]
  },
  {
   "cell_type": "code",
   "execution_count": 22,
   "metadata": {},
   "outputs": [
    {
     "name": "stdout",
     "output_type": "stream",
     "text": [
      "['Hey! Wie heißt du? Und gibt es ein persönliches Detail, das du gerne teilen möchtest, wie zum Beispiel ein Hobby, deinen Beruf oder eine interessante Lebenserfahrung? 😊']\n"
     ]
    }
   ],
   "source": [
    "bot = Chatbot(\n",
    "    database_file=\"database/chatbot.db\", \n",
    "    type_id=\"9374a3c4\",\n",
    "    user_id=\"3b3bd93c\",\n",
    "    type_name=\"Fitness Coach\",\n",
    "    type_role=type_role,\n",
    "    instance_context=instance_context,\n",
    "    instance_starter=instance_starter\n",
    ")\n",
    "print(bot.start())"
   ]
  }
 ],
 "metadata": {
  "kernelspec": {
   "display_name": "Python 3",
   "language": "python",
   "name": "python3"
  },
  "language_info": {
   "codemirror_mode": {
    "name": "ipython",
    "version": 3
   },
   "file_extension": ".py",
   "mimetype": "text/x-python",
   "name": "python",
   "nbconvert_exporter": "python",
   "pygments_lexer": "ipython3",
   "version": "3.12.1"
  },
  "orig_nbformat": 4
 },
 "nbformat": 4,
 "nbformat_minor": 2
}
